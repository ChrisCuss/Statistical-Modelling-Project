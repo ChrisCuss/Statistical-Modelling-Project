{
 "cells": [
  {
   "cell_type": "markdown",
   "metadata": {},
   "source": [
    "# CityBikes"
   ]
  },
  {
   "cell_type": "markdown",
   "metadata": {},
   "source": [
    "## Send a request to CityBikes for the city of your choice. "
   ]
  },
  {
   "cell_type": "code",
   "execution_count": 1,
   "metadata": {},
   "outputs": [],
   "source": [
    "# importing pandas, requests and json\n",
    "\n",
    "import requests\n",
    "import json\n",
    "import pandas as pd"
   ]
  },
  {
   "cell_type": "markdown",
   "metadata": {},
   "source": [
    "**Note:** I used Postman to explore the data in the json response from 'http://api.citybik.es/v2/networks'. This allowed me to find the network id for the company called Bixi in Montreal. I have fond memories of using their services to commute to work when I used to live in Montreal."
   ]
  },
  {
   "cell_type": "code",
   "execution_count": 2,
   "metadata": {},
   "outputs": [],
   "source": [
    "# API url\n",
    "\n",
    "url = 'http://api.citybik.es/v2/networks/bixi-montreal'\n",
    "\n",
    "# GET Request\n",
    "response = requests.get(url)\n",
    "\n",
    "# Checking to see if the request was successful\n",
    "if response.status_code == 200:\n",
    "    # Parse the JSON data\n",
    "    data = response.json()\n",
    "\n",
    "    # Convert to pandas DataFrame\n",
    "    df = pd.DataFrame(data)\n",
    "\n",
    "else:\n",
    "    # Response if API call failed.\n",
    "    print(f'Failed to retrieve data: {response.status_code}')"
   ]
  },
  {
   "cell_type": "code",
   "execution_count": 3,
   "metadata": {},
   "outputs": [
    {
     "data": {
      "text/html": [
       "<div>\n",
       "<style scoped>\n",
       "    .dataframe tbody tr th:only-of-type {\n",
       "        vertical-align: middle;\n",
       "    }\n",
       "\n",
       "    .dataframe tbody tr th {\n",
       "        vertical-align: top;\n",
       "    }\n",
       "\n",
       "    .dataframe thead th {\n",
       "        text-align: right;\n",
       "    }\n",
       "</style>\n",
       "<table border=\"1\" class=\"dataframe\">\n",
       "  <thead>\n",
       "    <tr style=\"text-align: right;\">\n",
       "      <th></th>\n",
       "      <th>network</th>\n",
       "    </tr>\n",
       "  </thead>\n",
       "  <tbody>\n",
       "    <tr>\n",
       "      <th>company</th>\n",
       "      <td>[Motivate International, Inc., PBSC Urban Solu...</td>\n",
       "    </tr>\n",
       "    <tr>\n",
       "      <th>ebikes</th>\n",
       "      <td>True</td>\n",
       "    </tr>\n",
       "    <tr>\n",
       "      <th>gbfs_href</th>\n",
       "      <td>https://gbfs.velobixi.com/gbfs/gbfs.json</td>\n",
       "    </tr>\n",
       "    <tr>\n",
       "      <th>href</th>\n",
       "      <td>/v2/networks/bixi-montreal</td>\n",
       "    </tr>\n",
       "    <tr>\n",
       "      <th>id</th>\n",
       "      <td>bixi-montreal</td>\n",
       "    </tr>\n",
       "    <tr>\n",
       "      <th>location</th>\n",
       "      <td>{'city': 'Montréal, QC', 'country': 'CA', 'lat...</td>\n",
       "    </tr>\n",
       "    <tr>\n",
       "      <th>name</th>\n",
       "      <td>Bixi</td>\n",
       "    </tr>\n",
       "    <tr>\n",
       "      <th>stations</th>\n",
       "      <td>[{'empty_slots': 2, 'extra': {'ebikes': 0, 'ha...</td>\n",
       "    </tr>\n",
       "  </tbody>\n",
       "</table>\n",
       "</div>"
      ],
      "text/plain": [
       "                                                     network\n",
       "company    [Motivate International, Inc., PBSC Urban Solu...\n",
       "ebikes                                                  True\n",
       "gbfs_href           https://gbfs.velobixi.com/gbfs/gbfs.json\n",
       "href                              /v2/networks/bixi-montreal\n",
       "id                                             bixi-montreal\n",
       "location   {'city': 'Montréal, QC', 'country': 'CA', 'lat...\n",
       "name                                                    Bixi\n",
       "stations   [{'empty_slots': 2, 'extra': {'ebikes': 0, 'ha..."
      ]
     },
     "execution_count": 3,
     "metadata": {},
     "output_type": "execute_result"
    }
   ],
   "source": [
    "df"
   ]
  },
  {
   "cell_type": "markdown",
   "metadata": {},
   "source": [
    "**Note:** The data did not fit into the DataFrame as expected. Going to try again but this time i'm going to try to normalize the data."
   ]
  },
  {
   "cell_type": "code",
   "execution_count": 6,
   "metadata": {},
   "outputs": [],
   "source": [
    "# API url\n",
    "\n",
    "url = 'http://api.citybik.es/v2/networks/bixi-montreal'\n",
    "\n",
    "# GET Request\n",
    "response = requests.get(url)\n",
    "\n",
    "# Checking to see if the request was successful\n",
    "if response.status_code == 200:\n",
    "    # Parse the JSON data\n",
    "    data = response.json()\n",
    "\n",
    "    # Convert and normalize to pandas DataFrame\n",
    "    df = pd.json_normalize(data)\n",
    "\n",
    "else:\n",
    "    # Response if API call failed.\n",
    "    print(f'Failed to retrieve data: {response.status_code}')"
   ]
  },
  {
   "cell_type": "code",
   "execution_count": 7,
   "metadata": {},
   "outputs": [
    {
     "data": {
      "text/html": [
       "<div>\n",
       "<style scoped>\n",
       "    .dataframe tbody tr th:only-of-type {\n",
       "        vertical-align: middle;\n",
       "    }\n",
       "\n",
       "    .dataframe tbody tr th {\n",
       "        vertical-align: top;\n",
       "    }\n",
       "\n",
       "    .dataframe thead th {\n",
       "        text-align: right;\n",
       "    }\n",
       "</style>\n",
       "<table border=\"1\" class=\"dataframe\">\n",
       "  <thead>\n",
       "    <tr style=\"text-align: right;\">\n",
       "      <th></th>\n",
       "      <th>network.company</th>\n",
       "      <th>network.ebikes</th>\n",
       "      <th>network.gbfs_href</th>\n",
       "      <th>network.href</th>\n",
       "      <th>network.id</th>\n",
       "      <th>network.location.city</th>\n",
       "      <th>network.location.country</th>\n",
       "      <th>network.location.latitude</th>\n",
       "      <th>network.location.longitude</th>\n",
       "      <th>network.name</th>\n",
       "      <th>network.stations</th>\n",
       "    </tr>\n",
       "  </thead>\n",
       "  <tbody>\n",
       "    <tr>\n",
       "      <th>0</th>\n",
       "      <td>[Motivate International, Inc., PBSC Urban Solu...</td>\n",
       "      <td>True</td>\n",
       "      <td>https://gbfs.velobixi.com/gbfs/gbfs.json</td>\n",
       "      <td>/v2/networks/bixi-montreal</td>\n",
       "      <td>bixi-montreal</td>\n",
       "      <td>Montréal, QC</td>\n",
       "      <td>CA</td>\n",
       "      <td>45.508693</td>\n",
       "      <td>-73.553928</td>\n",
       "      <td>Bixi</td>\n",
       "      <td>[{'empty_slots': 3, 'extra': {'ebikes': 0, 'ha...</td>\n",
       "    </tr>\n",
       "  </tbody>\n",
       "</table>\n",
       "</div>"
      ],
      "text/plain": [
       "                                     network.company  network.ebikes  \\\n",
       "0  [Motivate International, Inc., PBSC Urban Solu...            True   \n",
       "\n",
       "                          network.gbfs_href                network.href  \\\n",
       "0  https://gbfs.velobixi.com/gbfs/gbfs.json  /v2/networks/bixi-montreal   \n",
       "\n",
       "      network.id network.location.city network.location.country  \\\n",
       "0  bixi-montreal          Montréal, QC                       CA   \n",
       "\n",
       "   network.location.latitude  network.location.longitude network.name  \\\n",
       "0                  45.508693                  -73.553928         Bixi   \n",
       "\n",
       "                                    network.stations  \n",
       "0  [{'empty_slots': 3, 'extra': {'ebikes': 0, 'ha...  "
      ]
     },
     "execution_count": 7,
     "metadata": {},
     "output_type": "execute_result"
    }
   ],
   "source": [
    "df"
   ]
  },
  {
   "cell_type": "markdown",
   "metadata": {},
   "source": [
    "**Note:** Ok, it looks like we're going to have to be more specific because the data is nested."
   ]
  },
  {
   "cell_type": "markdown",
   "metadata": {},
   "source": [
    "## Parse through the response to get the details you want for the bike stations in that city (latitude, longitude, number of bikes). "
   ]
  },
  {
   "cell_type": "code",
   "execution_count": 9,
   "metadata": {},
   "outputs": [],
   "source": [
    "# API url\n",
    "\n",
    "url = 'http://api.citybik.es/v2/networks/bixi-montreal'\n",
    "\n",
    "# GET Request\n",
    "response = requests.get(url)\n",
    "\n",
    "# Checking to see if the request was successful\n",
    "if response.status_code == 200:\n",
    "    # Parse the JSON data\n",
    "    data = response.json()\n",
    "\n",
    "    # Access the nested part of the data\n",
    "    nested_data = data['network']['stations']\n",
    "\n",
    "    # Convert and normalize to pandas DataFrame\n",
    "    df = pd.json_normalize(nested_data)\n",
    "\n",
    "    # Modify the DataFrame to only include the columns I want\n",
    "    df = df[['name', 'latitude', 'longitude', 'free_bikes']]\n",
    "\n",
    "else:\n",
    "    # Response if API call failed.\n",
    "    print(f'Failed to retrieve data: {response.status_code}')"
   ]
  },
  {
   "cell_type": "markdown",
   "metadata": {},
   "source": [
    "## Put your parsed results into a DataFrame."
   ]
  },
  {
   "cell_type": "code",
   "execution_count": 10,
   "metadata": {},
   "outputs": [
    {
     "data": {
      "text/html": [
       "<div>\n",
       "<style scoped>\n",
       "    .dataframe tbody tr th:only-of-type {\n",
       "        vertical-align: middle;\n",
       "    }\n",
       "\n",
       "    .dataframe tbody tr th {\n",
       "        vertical-align: top;\n",
       "    }\n",
       "\n",
       "    .dataframe thead th {\n",
       "        text-align: right;\n",
       "    }\n",
       "</style>\n",
       "<table border=\"1\" class=\"dataframe\">\n",
       "  <thead>\n",
       "    <tr style=\"text-align: right;\">\n",
       "      <th></th>\n",
       "      <th>name</th>\n",
       "      <th>latitude</th>\n",
       "      <th>longitude</th>\n",
       "      <th>free_bikes</th>\n",
       "    </tr>\n",
       "  </thead>\n",
       "  <tbody>\n",
       "    <tr>\n",
       "      <th>0</th>\n",
       "      <td>Gare d'autocars de Montréal (Berri / Ontario)</td>\n",
       "      <td>45.516926</td>\n",
       "      <td>-73.564257</td>\n",
       "      <td>12</td>\n",
       "    </tr>\n",
       "    <tr>\n",
       "      <th>1</th>\n",
       "      <td>Marché Maisonneuve</td>\n",
       "      <td>45.553219</td>\n",
       "      <td>-73.539782</td>\n",
       "      <td>11</td>\n",
       "    </tr>\n",
       "    <tr>\n",
       "      <th>2</th>\n",
       "      <td>Rachel / de Brébeuf</td>\n",
       "      <td>45.526890</td>\n",
       "      <td>-73.572640</td>\n",
       "      <td>1</td>\n",
       "    </tr>\n",
       "    <tr>\n",
       "      <th>3</th>\n",
       "      <td>Bibliothèque d'Ahuntsic (Lajeunesse / Fleury)</td>\n",
       "      <td>45.553400</td>\n",
       "      <td>-73.662255</td>\n",
       "      <td>6</td>\n",
       "    </tr>\n",
       "    <tr>\n",
       "      <th>4</th>\n",
       "      <td>Cité des Arts du Cirque (Paul Boutet / des Reg...</td>\n",
       "      <td>45.559842</td>\n",
       "      <td>-73.615447</td>\n",
       "      <td>17</td>\n",
       "    </tr>\n",
       "    <tr>\n",
       "      <th>...</th>\n",
       "      <td>...</td>\n",
       "      <td>...</td>\n",
       "      <td>...</td>\n",
       "      <td>...</td>\n",
       "    </tr>\n",
       "    <tr>\n",
       "      <th>155</th>\n",
       "      <td>Métro Atwater (Atwater / Ste-Catherine)</td>\n",
       "      <td>45.489525</td>\n",
       "      <td>-73.584458</td>\n",
       "      <td>11</td>\n",
       "    </tr>\n",
       "    <tr>\n",
       "      <th>156</th>\n",
       "      <td>Complexe Desjardins (St-Urbain / René-Lévesque)</td>\n",
       "      <td>45.507885</td>\n",
       "      <td>-73.563151</td>\n",
       "      <td>34</td>\n",
       "    </tr>\n",
       "    <tr>\n",
       "      <th>157</th>\n",
       "      <td>de Maisonneuve / Mackay</td>\n",
       "      <td>45.496496</td>\n",
       "      <td>-73.578704</td>\n",
       "      <td>4</td>\n",
       "    </tr>\n",
       "    <tr>\n",
       "      <th>158</th>\n",
       "      <td>du Mont-Royal / de Brébeuf</td>\n",
       "      <td>45.529337</td>\n",
       "      <td>-73.577953</td>\n",
       "      <td>6</td>\n",
       "    </tr>\n",
       "    <tr>\n",
       "      <th>159</th>\n",
       "      <td>Ste-Catherine / Union</td>\n",
       "      <td>45.503738</td>\n",
       "      <td>-73.569485</td>\n",
       "      <td>13</td>\n",
       "    </tr>\n",
       "  </tbody>\n",
       "</table>\n",
       "<p>160 rows × 4 columns</p>\n",
       "</div>"
      ],
      "text/plain": [
       "                                                  name   latitude  longitude  \\\n",
       "0        Gare d'autocars de Montréal (Berri / Ontario)  45.516926 -73.564257   \n",
       "1                                   Marché Maisonneuve  45.553219 -73.539782   \n",
       "2                                  Rachel / de Brébeuf  45.526890 -73.572640   \n",
       "3        Bibliothèque d'Ahuntsic (Lajeunesse / Fleury)  45.553400 -73.662255   \n",
       "4    Cité des Arts du Cirque (Paul Boutet / des Reg...  45.559842 -73.615447   \n",
       "..                                                 ...        ...        ...   \n",
       "155            Métro Atwater (Atwater / Ste-Catherine)  45.489525 -73.584458   \n",
       "156    Complexe Desjardins (St-Urbain / René-Lévesque)  45.507885 -73.563151   \n",
       "157                            de Maisonneuve / Mackay  45.496496 -73.578704   \n",
       "158                         du Mont-Royal / de Brébeuf  45.529337 -73.577953   \n",
       "159                              Ste-Catherine / Union  45.503738 -73.569485   \n",
       "\n",
       "     free_bikes  \n",
       "0            12  \n",
       "1            11  \n",
       "2             1  \n",
       "3             6  \n",
       "4            17  \n",
       "..          ...  \n",
       "155          11  \n",
       "156          34  \n",
       "157           4  \n",
       "158           6  \n",
       "159          13  \n",
       "\n",
       "[160 rows x 4 columns]"
      ]
     },
     "execution_count": 10,
     "metadata": {},
     "output_type": "execute_result"
    }
   ],
   "source": [
    "df"
   ]
  },
  {
   "cell_type": "code",
   "execution_count": 12,
   "metadata": {},
   "outputs": [],
   "source": [
    "# Download the DataFrame to a CSV file for later use.\n",
    "\n",
    "df.to_csv('city_bikes_Montreal.csv', index=False)"
   ]
  },
  {
   "cell_type": "code",
   "execution_count": null,
   "metadata": {},
   "outputs": [],
   "source": []
  }
 ],
 "metadata": {
  "kernelspec": {
   "display_name": "Python 3 (ipykernel)",
   "language": "python",
   "name": "python3"
  },
  "language_info": {
   "codemirror_mode": {
    "name": "ipython",
    "version": 3
   },
   "file_extension": ".py",
   "mimetype": "text/x-python",
   "name": "python",
   "nbconvert_exporter": "python",
   "pygments_lexer": "ipython3",
   "version": "3.8.18"
  }
 },
 "nbformat": 4,
 "nbformat_minor": 4
}
