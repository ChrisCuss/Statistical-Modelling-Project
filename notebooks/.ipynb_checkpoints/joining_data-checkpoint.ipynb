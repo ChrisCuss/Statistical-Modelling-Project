{
 "cells": [
  {
   "cell_type": "markdown",
   "metadata": {},
   "source": [
    "Join the data from Part 1 with the data from Part 2 to create a new dataframe."
   ]
  },
  {
   "cell_type": "code",
   "execution_count": 7,
   "metadata": {},
   "outputs": [],
   "source": [
    "import pandas as pd\n",
    "\n",
    "# Loading the data\n",
    "file_path_yelp = '../data/city_bikes_Montreal.csv'\n",
    "file_path_bikes = '../data/yelp_data.csv'\n",
    "\n",
    "yelp_data = pd.read_csv(file_path_yelp)\n",
    "bike_stations = pd.read_csv(file_path_bikes)\n",
    "\n",
    "# Since the lat & long don't match exactly, I am rounding the latitude and longitude in both DataFrames\n",
    "precision = 3 # This allowes me to control and experiment with the precision of the rounding\n",
    "yelp_data['rounded_latitude'] = yelp_data['latitude'].round(precision)\n",
    "yelp_data['rounded_longitude'] = yelp_data['longitude'].round(precision)\n",
    "bike_stations['rounded_latitude'] = bike_stations['latitude'].round(precision)\n",
    "bike_stations['rounded_longitude'] = bike_stations['longitude'].round(precision)\n",
    "\n",
    "# Inner join on the rounded latitude and longitude\n",
    "combined_data = pd.merge(bike_stations, yelp_data ,  how='inner', left_on=['rounded_latitude', 'rounded_longitude'], right_on=['rounded_latitude', 'rounded_longitude'])"
   ]
  },
  {
   "cell_type": "code",
   "execution_count": 8,
   "metadata": {
    "scrolled": true
   },
   "outputs": [
    {
     "data": {
      "text/html": [
       "<div>\n",
       "<style scoped>\n",
       "    .dataframe tbody tr th:only-of-type {\n",
       "        vertical-align: middle;\n",
       "    }\n",
       "\n",
       "    .dataframe tbody tr th {\n",
       "        vertical-align: top;\n",
       "    }\n",
       "\n",
       "    .dataframe thead th {\n",
       "        text-align: right;\n",
       "    }\n",
       "</style>\n",
       "<table border=\"1\" class=\"dataframe\">\n",
       "  <thead>\n",
       "    <tr style=\"text-align: right;\">\n",
       "      <th></th>\n",
       "      <th>name_x</th>\n",
       "      <th>address</th>\n",
       "      <th>category</th>\n",
       "      <th>latitude_x</th>\n",
       "      <th>longitude_x</th>\n",
       "      <th>rating</th>\n",
       "      <th>rounded_latitude</th>\n",
       "      <th>rounded_longitude</th>\n",
       "      <th>name_y</th>\n",
       "      <th>latitude_y</th>\n",
       "      <th>longitude_y</th>\n",
       "      <th>free_bikes</th>\n",
       "    </tr>\n",
       "  </thead>\n",
       "  <tbody>\n",
       "    <tr>\n",
       "      <th>0</th>\n",
       "      <td>Bagatelle</td>\n",
       "      <td>4323 Rue Ontario E, Montreal, QC H1V 1K5, Canada</td>\n",
       "      <td>French, Breakfast &amp; Brunch</td>\n",
       "      <td>45.552822</td>\n",
       "      <td>-73.539624</td>\n",
       "      <td>4.0</td>\n",
       "      <td>45.553</td>\n",
       "      <td>-73.54</td>\n",
       "      <td>Marché Maisonneuve</td>\n",
       "      <td>45.553219</td>\n",
       "      <td>-73.539782</td>\n",
       "      <td>11</td>\n",
       "    </tr>\n",
       "    <tr>\n",
       "      <th>1</th>\n",
       "      <td>Les Gourmandises de Marie-Antoinette</td>\n",
       "      <td>4317 Rue Ontario E, Montreal, QC H1V 1K5, Canada</td>\n",
       "      <td>Bakeries, Tea Rooms</td>\n",
       "      <td>45.552910</td>\n",
       "      <td>-73.539780</td>\n",
       "      <td>4.5</td>\n",
       "      <td>45.553</td>\n",
       "      <td>-73.54</td>\n",
       "      <td>Marché Maisonneuve</td>\n",
       "      <td>45.553219</td>\n",
       "      <td>-73.539782</td>\n",
       "      <td>11</td>\n",
       "    </tr>\n",
       "    <tr>\n",
       "      <th>2</th>\n",
       "      <td>Pita Bar</td>\n",
       "      <td>4315 Rue Ontario E, Montreal, QC H1V 1K5, Canada</td>\n",
       "      <td>Greek</td>\n",
       "      <td>45.552803</td>\n",
       "      <td>-73.539842</td>\n",
       "      <td>3.5</td>\n",
       "      <td>45.553</td>\n",
       "      <td>-73.54</td>\n",
       "      <td>Marché Maisonneuve</td>\n",
       "      <td>45.553219</td>\n",
       "      <td>-73.539782</td>\n",
       "      <td>11</td>\n",
       "    </tr>\n",
       "    <tr>\n",
       "      <th>3</th>\n",
       "      <td>Bagatelle</td>\n",
       "      <td>4323 Rue Ontario E, Montreal, QC H1V 1K5, Canada</td>\n",
       "      <td>French, Breakfast &amp; Brunch</td>\n",
       "      <td>45.552822</td>\n",
       "      <td>-73.539624</td>\n",
       "      <td>4.0</td>\n",
       "      <td>45.553</td>\n",
       "      <td>-73.54</td>\n",
       "      <td>Marché Maisonneuve</td>\n",
       "      <td>45.553219</td>\n",
       "      <td>-73.539782</td>\n",
       "      <td>11</td>\n",
       "    </tr>\n",
       "    <tr>\n",
       "      <th>4</th>\n",
       "      <td>Bagatelle</td>\n",
       "      <td>4323 Rue Ontario E, Montreal, QC H1V 1K5, Canada</td>\n",
       "      <td>French, Breakfast &amp; Brunch</td>\n",
       "      <td>45.552822</td>\n",
       "      <td>-73.539624</td>\n",
       "      <td>4.0</td>\n",
       "      <td>45.553</td>\n",
       "      <td>-73.54</td>\n",
       "      <td>Marché Maisonneuve</td>\n",
       "      <td>45.553219</td>\n",
       "      <td>-73.539782</td>\n",
       "      <td>11</td>\n",
       "    </tr>\n",
       "  </tbody>\n",
       "</table>\n",
       "</div>"
      ],
      "text/plain": [
       "                                 name_x  \\\n",
       "0                             Bagatelle   \n",
       "1  Les Gourmandises de Marie-Antoinette   \n",
       "2                              Pita Bar   \n",
       "3                             Bagatelle   \n",
       "4                             Bagatelle   \n",
       "\n",
       "                                            address  \\\n",
       "0  4323 Rue Ontario E, Montreal, QC H1V 1K5, Canada   \n",
       "1  4317 Rue Ontario E, Montreal, QC H1V 1K5, Canada   \n",
       "2  4315 Rue Ontario E, Montreal, QC H1V 1K5, Canada   \n",
       "3  4323 Rue Ontario E, Montreal, QC H1V 1K5, Canada   \n",
       "4  4323 Rue Ontario E, Montreal, QC H1V 1K5, Canada   \n",
       "\n",
       "                     category  latitude_x  longitude_x  rating  \\\n",
       "0  French, Breakfast & Brunch   45.552822   -73.539624     4.0   \n",
       "1         Bakeries, Tea Rooms   45.552910   -73.539780     4.5   \n",
       "2                       Greek   45.552803   -73.539842     3.5   \n",
       "3  French, Breakfast & Brunch   45.552822   -73.539624     4.0   \n",
       "4  French, Breakfast & Brunch   45.552822   -73.539624     4.0   \n",
       "\n",
       "   rounded_latitude  rounded_longitude              name_y  latitude_y  \\\n",
       "0            45.553             -73.54  Marché Maisonneuve   45.553219   \n",
       "1            45.553             -73.54  Marché Maisonneuve   45.553219   \n",
       "2            45.553             -73.54  Marché Maisonneuve   45.553219   \n",
       "3            45.553             -73.54  Marché Maisonneuve   45.553219   \n",
       "4            45.553             -73.54  Marché Maisonneuve   45.553219   \n",
       "\n",
       "   longitude_y  free_bikes  \n",
       "0   -73.539782          11  \n",
       "1   -73.539782          11  \n",
       "2   -73.539782          11  \n",
       "3   -73.539782          11  \n",
       "4   -73.539782          11  "
      ]
     },
     "execution_count": 8,
     "metadata": {},
     "output_type": "execute_result"
    }
   ],
   "source": [
    "combined_data.head()"
   ]
  },
  {
   "cell_type": "code",
   "execution_count": 9,
   "metadata": {},
   "outputs": [
    {
     "name": "stdout",
     "output_type": "stream",
     "text": [
      "<class 'pandas.core.frame.DataFrame'>\n",
      "RangeIndex: 143 entries, 0 to 142\n",
      "Data columns (total 12 columns):\n",
      " #   Column             Non-Null Count  Dtype  \n",
      "---  ------             --------------  -----  \n",
      " 0   name_x             143 non-null    object \n",
      " 1   address            143 non-null    object \n",
      " 2   category           143 non-null    object \n",
      " 3   latitude_x         143 non-null    float64\n",
      " 4   longitude_x        143 non-null    float64\n",
      " 5   rating             143 non-null    float64\n",
      " 6   rounded_latitude   143 non-null    float64\n",
      " 7   rounded_longitude  143 non-null    float64\n",
      " 8   name_y             143 non-null    object \n",
      " 9   latitude_y         143 non-null    float64\n",
      " 10  longitude_y        143 non-null    float64\n",
      " 11  free_bikes         143 non-null    int64  \n",
      "dtypes: float64(7), int64(1), object(4)\n",
      "memory usage: 13.5+ KB\n"
     ]
    }
   ],
   "source": [
    "# Take a look at the info of the DataFrame\n",
    "\n",
    "combined_data.info()"
   ]
  },
  {
   "cell_type": "code",
   "execution_count": 11,
   "metadata": {
    "scrolled": true
   },
   "outputs": [
    {
     "data": {
      "text/plain": [
       "name_x               0\n",
       "address              0\n",
       "category             0\n",
       "latitude_x           0\n",
       "longitude_x          0\n",
       "rating               0\n",
       "rounded_latitude     0\n",
       "rounded_longitude    0\n",
       "name_y               0\n",
       "latitude_y           0\n",
       "longitude_y          0\n",
       "free_bikes           0\n",
       "dtype: int64"
      ]
     },
     "execution_count": 11,
     "metadata": {},
     "output_type": "execute_result"
    }
   ],
   "source": [
    "# Checking for nulls\n",
    "\n",
    "combined_data.isnull().sum()"
   ]
  },
  {
   "cell_type": "code",
   "execution_count": 13,
   "metadata": {},
   "outputs": [
    {
     "data": {
      "text/plain": [
       "98"
      ]
     },
     "execution_count": 13,
     "metadata": {},
     "output_type": "execute_result"
    }
   ],
   "source": [
    "# Checking for duplicates\n",
    "\n",
    "combined_data.duplicated().sum()"
   ]
  },
  {
   "cell_type": "code",
   "execution_count": 15,
   "metadata": {},
   "outputs": [],
   "source": [
    "# Drop duplicates\n",
    "\n",
    "combined_data.drop_duplicates(inplace=True)"
   ]
  },
  {
   "cell_type": "code",
   "execution_count": 16,
   "metadata": {
    "scrolled": true
   },
   "outputs": [
    {
     "data": {
      "text/html": [
       "<div>\n",
       "<style scoped>\n",
       "    .dataframe tbody tr th:only-of-type {\n",
       "        vertical-align: middle;\n",
       "    }\n",
       "\n",
       "    .dataframe tbody tr th {\n",
       "        vertical-align: top;\n",
       "    }\n",
       "\n",
       "    .dataframe thead th {\n",
       "        text-align: right;\n",
       "    }\n",
       "</style>\n",
       "<table border=\"1\" class=\"dataframe\">\n",
       "  <thead>\n",
       "    <tr style=\"text-align: right;\">\n",
       "      <th></th>\n",
       "      <th>name_x</th>\n",
       "      <th>address</th>\n",
       "      <th>category</th>\n",
       "      <th>latitude_x</th>\n",
       "      <th>longitude_x</th>\n",
       "      <th>rating</th>\n",
       "      <th>rounded_latitude</th>\n",
       "      <th>rounded_longitude</th>\n",
       "      <th>name_y</th>\n",
       "      <th>latitude_y</th>\n",
       "      <th>longitude_y</th>\n",
       "      <th>free_bikes</th>\n",
       "    </tr>\n",
       "  </thead>\n",
       "  <tbody>\n",
       "    <tr>\n",
       "      <th>0</th>\n",
       "      <td>Bagatelle</td>\n",
       "      <td>4323 Rue Ontario E, Montreal, QC H1V 1K5, Canada</td>\n",
       "      <td>French, Breakfast &amp; Brunch</td>\n",
       "      <td>45.552822</td>\n",
       "      <td>-73.539624</td>\n",
       "      <td>4.0</td>\n",
       "      <td>45.553</td>\n",
       "      <td>-73.540</td>\n",
       "      <td>Marché Maisonneuve</td>\n",
       "      <td>45.553219</td>\n",
       "      <td>-73.539782</td>\n",
       "      <td>11</td>\n",
       "    </tr>\n",
       "    <tr>\n",
       "      <th>1</th>\n",
       "      <td>Les Gourmandises de Marie-Antoinette</td>\n",
       "      <td>4317 Rue Ontario E, Montreal, QC H1V 1K5, Canada</td>\n",
       "      <td>Bakeries, Tea Rooms</td>\n",
       "      <td>45.552910</td>\n",
       "      <td>-73.539780</td>\n",
       "      <td>4.5</td>\n",
       "      <td>45.553</td>\n",
       "      <td>-73.540</td>\n",
       "      <td>Marché Maisonneuve</td>\n",
       "      <td>45.553219</td>\n",
       "      <td>-73.539782</td>\n",
       "      <td>11</td>\n",
       "    </tr>\n",
       "    <tr>\n",
       "      <th>2</th>\n",
       "      <td>Pita Bar</td>\n",
       "      <td>4315 Rue Ontario E, Montreal, QC H1V 1K5, Canada</td>\n",
       "      <td>Greek</td>\n",
       "      <td>45.552803</td>\n",
       "      <td>-73.539842</td>\n",
       "      <td>3.5</td>\n",
       "      <td>45.553</td>\n",
       "      <td>-73.540</td>\n",
       "      <td>Marché Maisonneuve</td>\n",
       "      <td>45.553219</td>\n",
       "      <td>-73.539782</td>\n",
       "      <td>11</td>\n",
       "    </tr>\n",
       "    <tr>\n",
       "      <th>19</th>\n",
       "      <td>India Rosa</td>\n",
       "      <td>1241 Avenue du Mont-Royal E, Montreal, QC H2J ...</td>\n",
       "      <td>Indian, Cocktail Bars, Tapas Bars</td>\n",
       "      <td>45.529291</td>\n",
       "      <td>-73.578237</td>\n",
       "      <td>4.0</td>\n",
       "      <td>45.529</td>\n",
       "      <td>-73.578</td>\n",
       "      <td>du Mont-Royal / de Brébeuf</td>\n",
       "      <td>45.529337</td>\n",
       "      <td>-73.577953</td>\n",
       "      <td>6</td>\n",
       "    </tr>\n",
       "    <tr>\n",
       "      <th>23</th>\n",
       "      <td>Le Rouge Gorge</td>\n",
       "      <td>1234 Mont-royal E, Montreal, QC H2J 1Y2, Canada</td>\n",
       "      <td>Wine Bars, Tapas/Small Plates</td>\n",
       "      <td>45.529112</td>\n",
       "      <td>-73.577978</td>\n",
       "      <td>4.5</td>\n",
       "      <td>45.529</td>\n",
       "      <td>-73.578</td>\n",
       "      <td>du Mont-Royal / de Brébeuf</td>\n",
       "      <td>45.529337</td>\n",
       "      <td>-73.577953</td>\n",
       "      <td>6</td>\n",
       "    </tr>\n",
       "    <tr>\n",
       "      <th>28</th>\n",
       "      <td>Pizzédélic</td>\n",
       "      <td>1250 avenue du Mont-Royal Est, Montreal, QC H2...</td>\n",
       "      <td>Pizza, Food Delivery Services</td>\n",
       "      <td>45.529399</td>\n",
       "      <td>-73.577818</td>\n",
       "      <td>3.5</td>\n",
       "      <td>45.529</td>\n",
       "      <td>-73.578</td>\n",
       "      <td>du Mont-Royal / de Brébeuf</td>\n",
       "      <td>45.529337</td>\n",
       "      <td>-73.577953</td>\n",
       "      <td>6</td>\n",
       "    </tr>\n",
       "    <tr>\n",
       "      <th>29</th>\n",
       "      <td>Au Pain Perdu</td>\n",
       "      <td>4489 Rue de la Roche, Montreal, QC H2J 3J1, Ca...</td>\n",
       "      <td>Breakfast &amp; Brunch</td>\n",
       "      <td>45.528691</td>\n",
       "      <td>-73.578071</td>\n",
       "      <td>3.5</td>\n",
       "      <td>45.529</td>\n",
       "      <td>-73.578</td>\n",
       "      <td>du Mont-Royal / de Brébeuf</td>\n",
       "      <td>45.529337</td>\n",
       "      <td>-73.577953</td>\n",
       "      <td>6</td>\n",
       "    </tr>\n",
       "    <tr>\n",
       "      <th>30</th>\n",
       "      <td>Boîte Geisha Fusion Sushi</td>\n",
       "      <td>1209 Mount Royal Avenue E, Montreal, QC H2J 1Y...</td>\n",
       "      <td>Japanese, Sushi Bars</td>\n",
       "      <td>45.528972</td>\n",
       "      <td>-73.578486</td>\n",
       "      <td>4.5</td>\n",
       "      <td>45.529</td>\n",
       "      <td>-73.578</td>\n",
       "      <td>du Mont-Royal / de Brébeuf</td>\n",
       "      <td>45.529337</td>\n",
       "      <td>-73.577953</td>\n",
       "      <td>6</td>\n",
       "    </tr>\n",
       "    <tr>\n",
       "      <th>31</th>\n",
       "      <td>Ibéricos</td>\n",
       "      <td>4475 Rue Saint-Denis, Montreal, QC H2J 2L2, Ca...</td>\n",
       "      <td>Spanish, Tapas Bars</td>\n",
       "      <td>45.523902</td>\n",
       "      <td>-73.582430</td>\n",
       "      <td>4.5</td>\n",
       "      <td>45.524</td>\n",
       "      <td>-73.582</td>\n",
       "      <td>Métro Mont-Royal (Utilités publiques / Rivard)</td>\n",
       "      <td>45.524236</td>\n",
       "      <td>-73.581552</td>\n",
       "      <td>2</td>\n",
       "    </tr>\n",
       "    <tr>\n",
       "      <th>39</th>\n",
       "      <td>Café Gentile</td>\n",
       "      <td>9299 Avenue du Parc, Montreal, QC H2N 2A2, Canada</td>\n",
       "      <td>Sandwiches, Breakfast &amp; Brunch</td>\n",
       "      <td>45.538197</td>\n",
       "      <td>-73.654510</td>\n",
       "      <td>4.0</td>\n",
       "      <td>45.538</td>\n",
       "      <td>-73.655</td>\n",
       "      <td>Chabanel / du Parc</td>\n",
       "      <td>45.538308</td>\n",
       "      <td>-73.654884</td>\n",
       "      <td>12</td>\n",
       "    </tr>\n",
       "  </tbody>\n",
       "</table>\n",
       "</div>"
      ],
      "text/plain": [
       "                                  name_x  \\\n",
       "0                              Bagatelle   \n",
       "1   Les Gourmandises de Marie-Antoinette   \n",
       "2                               Pita Bar   \n",
       "19                            India Rosa   \n",
       "23                        Le Rouge Gorge   \n",
       "28                            Pizzédélic   \n",
       "29                         Au Pain Perdu   \n",
       "30             Boîte Geisha Fusion Sushi   \n",
       "31                              Ibéricos   \n",
       "39                          Café Gentile   \n",
       "\n",
       "                                              address  \\\n",
       "0    4323 Rue Ontario E, Montreal, QC H1V 1K5, Canada   \n",
       "1    4317 Rue Ontario E, Montreal, QC H1V 1K5, Canada   \n",
       "2    4315 Rue Ontario E, Montreal, QC H1V 1K5, Canada   \n",
       "19  1241 Avenue du Mont-Royal E, Montreal, QC H2J ...   \n",
       "23    1234 Mont-royal E, Montreal, QC H2J 1Y2, Canada   \n",
       "28  1250 avenue du Mont-Royal Est, Montreal, QC H2...   \n",
       "29  4489 Rue de la Roche, Montreal, QC H2J 3J1, Ca...   \n",
       "30  1209 Mount Royal Avenue E, Montreal, QC H2J 1Y...   \n",
       "31  4475 Rue Saint-Denis, Montreal, QC H2J 2L2, Ca...   \n",
       "39  9299 Avenue du Parc, Montreal, QC H2N 2A2, Canada   \n",
       "\n",
       "                             category  latitude_x  longitude_x  rating  \\\n",
       "0          French, Breakfast & Brunch   45.552822   -73.539624     4.0   \n",
       "1                 Bakeries, Tea Rooms   45.552910   -73.539780     4.5   \n",
       "2                               Greek   45.552803   -73.539842     3.5   \n",
       "19  Indian, Cocktail Bars, Tapas Bars   45.529291   -73.578237     4.0   \n",
       "23      Wine Bars, Tapas/Small Plates   45.529112   -73.577978     4.5   \n",
       "28      Pizza, Food Delivery Services   45.529399   -73.577818     3.5   \n",
       "29                 Breakfast & Brunch   45.528691   -73.578071     3.5   \n",
       "30               Japanese, Sushi Bars   45.528972   -73.578486     4.5   \n",
       "31                Spanish, Tapas Bars   45.523902   -73.582430     4.5   \n",
       "39     Sandwiches, Breakfast & Brunch   45.538197   -73.654510     4.0   \n",
       "\n",
       "    rounded_latitude  rounded_longitude  \\\n",
       "0             45.553            -73.540   \n",
       "1             45.553            -73.540   \n",
       "2             45.553            -73.540   \n",
       "19            45.529            -73.578   \n",
       "23            45.529            -73.578   \n",
       "28            45.529            -73.578   \n",
       "29            45.529            -73.578   \n",
       "30            45.529            -73.578   \n",
       "31            45.524            -73.582   \n",
       "39            45.538            -73.655   \n",
       "\n",
       "                                            name_y  latitude_y  longitude_y  \\\n",
       "0                               Marché Maisonneuve   45.553219   -73.539782   \n",
       "1                               Marché Maisonneuve   45.553219   -73.539782   \n",
       "2                               Marché Maisonneuve   45.553219   -73.539782   \n",
       "19                      du Mont-Royal / de Brébeuf   45.529337   -73.577953   \n",
       "23                      du Mont-Royal / de Brébeuf   45.529337   -73.577953   \n",
       "28                      du Mont-Royal / de Brébeuf   45.529337   -73.577953   \n",
       "29                      du Mont-Royal / de Brébeuf   45.529337   -73.577953   \n",
       "30                      du Mont-Royal / de Brébeuf   45.529337   -73.577953   \n",
       "31  Métro Mont-Royal (Utilités publiques / Rivard)   45.524236   -73.581552   \n",
       "39                              Chabanel / du Parc   45.538308   -73.654884   \n",
       "\n",
       "    free_bikes  \n",
       "0           11  \n",
       "1           11  \n",
       "2           11  \n",
       "19           6  \n",
       "23           6  \n",
       "28           6  \n",
       "29           6  \n",
       "30           6  \n",
       "31           2  \n",
       "39          12  "
      ]
     },
     "execution_count": 16,
     "metadata": {},
     "output_type": "execute_result"
    }
   ],
   "source": [
    "# Taking another look at the head now that we have removed duplicates\n",
    "\n",
    "combined_data.head(10)"
   ]
  },
  {
   "cell_type": "code",
   "execution_count": 52,
   "metadata": {},
   "outputs": [],
   "source": [
    "# Download the DataFrame to a CSV file for later use.\n",
    "\n",
    "combined_data.to_csv('combined_data.csv', index=False)"
   ]
  },
  {
   "cell_type": "markdown",
   "metadata": {},
   "source": [
    "Provide a visualization that you used as part of your EDA process. Explain the initial pattern or relationship you discoved through this visualization. "
   ]
  },
  {
   "cell_type": "code",
   "execution_count": 20,
   "metadata": {},
   "outputs": [],
   "source": [
    "# Importing necessary libraries\n",
    "import numpy as np\n",
    "import matplotlib.pyplot as plt\n",
    "import seaborn as sns"
   ]
  },
  {
   "cell_type": "code",
   "execution_count": 21,
   "metadata": {
    "scrolled": true
   },
   "outputs": [
    {
     "data": {
      "text/html": [
       "<div>\n",
       "<style scoped>\n",
       "    .dataframe tbody tr th:only-of-type {\n",
       "        vertical-align: middle;\n",
       "    }\n",
       "\n",
       "    .dataframe tbody tr th {\n",
       "        vertical-align: top;\n",
       "    }\n",
       "\n",
       "    .dataframe thead th {\n",
       "        text-align: right;\n",
       "    }\n",
       "</style>\n",
       "<table border=\"1\" class=\"dataframe\">\n",
       "  <thead>\n",
       "    <tr style=\"text-align: right;\">\n",
       "      <th></th>\n",
       "      <th>latitude_x</th>\n",
       "      <th>longitude_x</th>\n",
       "      <th>rating</th>\n",
       "      <th>rounded_latitude</th>\n",
       "      <th>rounded_longitude</th>\n",
       "      <th>latitude_y</th>\n",
       "      <th>longitude_y</th>\n",
       "      <th>free_bikes</th>\n",
       "    </tr>\n",
       "  </thead>\n",
       "  <tbody>\n",
       "    <tr>\n",
       "      <th>count</th>\n",
       "      <td>45.000000</td>\n",
       "      <td>45.000000</td>\n",
       "      <td>45.00000</td>\n",
       "      <td>45.000000</td>\n",
       "      <td>45.000000</td>\n",
       "      <td>45.000000</td>\n",
       "      <td>45.000000</td>\n",
       "      <td>45.000000</td>\n",
       "    </tr>\n",
       "    <tr>\n",
       "      <th>mean</th>\n",
       "      <td>45.524520</td>\n",
       "      <td>-73.575626</td>\n",
       "      <td>4.00000</td>\n",
       "      <td>45.524578</td>\n",
       "      <td>-73.575600</td>\n",
       "      <td>45.524628</td>\n",
       "      <td>-73.575589</td>\n",
       "      <td>7.733333</td>\n",
       "    </tr>\n",
       "    <tr>\n",
       "      <th>std</th>\n",
       "      <td>0.020226</td>\n",
       "      <td>0.022593</td>\n",
       "      <td>0.46466</td>\n",
       "      <td>0.020203</td>\n",
       "      <td>0.022591</td>\n",
       "      <td>0.020250</td>\n",
       "      <td>0.022671</td>\n",
       "      <td>5.193527</td>\n",
       "    </tr>\n",
       "    <tr>\n",
       "      <th>min</th>\n",
       "      <td>45.487754</td>\n",
       "      <td>-73.654510</td>\n",
       "      <td>3.00000</td>\n",
       "      <td>45.488000</td>\n",
       "      <td>-73.655000</td>\n",
       "      <td>45.488302</td>\n",
       "      <td>-73.654884</td>\n",
       "      <td>0.000000</td>\n",
       "    </tr>\n",
       "    <tr>\n",
       "      <th>25%</th>\n",
       "      <td>45.510731</td>\n",
       "      <td>-73.587480</td>\n",
       "      <td>3.50000</td>\n",
       "      <td>45.511000</td>\n",
       "      <td>-73.587000</td>\n",
       "      <td>45.510599</td>\n",
       "      <td>-73.586850</td>\n",
       "      <td>5.000000</td>\n",
       "    </tr>\n",
       "    <tr>\n",
       "      <th>50%</th>\n",
       "      <td>45.526767</td>\n",
       "      <td>-73.572148</td>\n",
       "      <td>4.00000</td>\n",
       "      <td>45.527000</td>\n",
       "      <td>-73.572000</td>\n",
       "      <td>45.527148</td>\n",
       "      <td>-73.571936</td>\n",
       "      <td>6.000000</td>\n",
       "    </tr>\n",
       "    <tr>\n",
       "      <th>75%</th>\n",
       "      <td>45.540899</td>\n",
       "      <td>-73.566750</td>\n",
       "      <td>4.50000</td>\n",
       "      <td>45.541000</td>\n",
       "      <td>-73.567000</td>\n",
       "      <td>45.541448</td>\n",
       "      <td>-73.566925</td>\n",
       "      <td>11.000000</td>\n",
       "    </tr>\n",
       "    <tr>\n",
       "      <th>max</th>\n",
       "      <td>45.560285</td>\n",
       "      <td>-73.532816</td>\n",
       "      <td>5.00000</td>\n",
       "      <td>45.560000</td>\n",
       "      <td>-73.533000</td>\n",
       "      <td>45.559705</td>\n",
       "      <td>-73.532633</td>\n",
       "      <td>22.000000</td>\n",
       "    </tr>\n",
       "  </tbody>\n",
       "</table>\n",
       "</div>"
      ],
      "text/plain": [
       "       latitude_x  longitude_x    rating  rounded_latitude  rounded_longitude  \\\n",
       "count   45.000000    45.000000  45.00000         45.000000          45.000000   \n",
       "mean    45.524520   -73.575626   4.00000         45.524578         -73.575600   \n",
       "std      0.020226     0.022593   0.46466          0.020203           0.022591   \n",
       "min     45.487754   -73.654510   3.00000         45.488000         -73.655000   \n",
       "25%     45.510731   -73.587480   3.50000         45.511000         -73.587000   \n",
       "50%     45.526767   -73.572148   4.00000         45.527000         -73.572000   \n",
       "75%     45.540899   -73.566750   4.50000         45.541000         -73.567000   \n",
       "max     45.560285   -73.532816   5.00000         45.560000         -73.533000   \n",
       "\n",
       "       latitude_y  longitude_y  free_bikes  \n",
       "count   45.000000    45.000000   45.000000  \n",
       "mean    45.524628   -73.575589    7.733333  \n",
       "std      0.020250     0.022671    5.193527  \n",
       "min     45.488302   -73.654884    0.000000  \n",
       "25%     45.510599   -73.586850    5.000000  \n",
       "50%     45.527148   -73.571936    6.000000  \n",
       "75%     45.541448   -73.566925   11.000000  \n",
       "max     45.559705   -73.532633   22.000000  "
      ]
     },
     "execution_count": 21,
     "metadata": {},
     "output_type": "execute_result"
    }
   ],
   "source": [
    "# Checking the descriptive statistics\n",
    "\n",
    "combined_data.describe()"
   ]
  },
  {
   "cell_type": "code",
   "execution_count": 59,
   "metadata": {},
   "outputs": [
    {
     "data": {
      "image/png": "[encoded data removed]",
      "text/plain": [
       "<Figure size 640x480 with 1 Axes>"
      ]
     },
     "metadata": {},
     "output_type": "display_data"
    }
   ],
   "source": [
    "sns.scatterplot(x=combined_data['rating'], y=combined_data['free_bikes'], data=combined_data)\n",
    "plt.show()"
   ]
  },
  {
   "cell_type": "code",
   "execution_count": 25,
   "metadata": {},
   "outputs": [
    {
     "data": {
      "text/plain": [
       "Text(0.5, 1.0, 'Distribution of [Variable]')"
      ]
     },
     "execution_count": 25,
     "metadata": {},
     "output_type": "execute_result"
    },
    {
     "data": {
      "image/png": "[encoded data removed]",
      "text/plain": [
       "<Figure size 640x480 with 1 Axes>"
      ]
     },
     "metadata": {},
     "output_type": "display_data"
    }
   ],
   "source": [
    "# Checking the distribution of free_bikes\n",
    "plt.hist(combined_data['free_bikes'])\n",
    "plt.xlabel('free_bikes')\n",
    "plt.ylabel('Frequency')\n",
    "plt.title('Distribution of [Variable]')"
   ]
  },
  {
   "cell_type": "code",
   "execution_count": 36,
   "metadata": {
    "scrolled": true
   },
   "outputs": [
    {
     "data": {
      "text/plain": [
       "Text(0.5, 1.0, 'Correlation Matrix')"
      ]
     },
     "execution_count": 36,
     "metadata": {},
     "output_type": "execute_result"
    },
    {
     "data": {
      "image/png": "[encoded data removed]",
      "text/plain": [
       "<Figure size 640x480 with 2 Axes>"
      ]
     },
     "metadata": {},
     "output_type": "display_data"
    }
   ],
   "source": [
    "# Correlation analysis\n",
    "selected_columns = ['latitude_x', 'longitude_x', 'rating', 'rounded_latitude', 'rounded_longitude', 'latitude_y', 'longitude_y', 'free_bikes']\n",
    "corr_matrix = combined_data[selected_columns].corr()\n",
    "\n",
    "# Create a heatmap to visualize the correlation matrix\n",
    "sns.heatmap(corr_matrix, annot=True, cmap='coolwarm')\n",
    "plt.title(\"Correlation Matrix\")"
   ]
  },
  {
   "cell_type": "markdown",
   "metadata": {},
   "source": [
    "**Note**: In my analysis, you can see a small correlation between the rating of the restaurant and the number of free bikes."
   ]
  },
  {
   "cell_type": "markdown",
   "metadata": {},
   "source": [
    "# Database"
   ]
  },
  {
   "cell_type": "markdown",
   "metadata": {},
   "source": [
    "Put all your results in an SQLite3 database (remember, SQLite stores its databases as files in your local machine - make sure to create your database in your project's data/ directory!)"
   ]
  },
  {
   "cell_type": "code",
   "execution_count": 37,
   "metadata": {},
   "outputs": [],
   "source": [
    "import sqlite3"
   ]
  },
  {
   "cell_type": "code",
   "execution_count": 38,
   "metadata": {},
   "outputs": [
    {
     "data": {
      "text/plain": [
       "45"
      ]
     },
     "execution_count": 38,
     "metadata": {},
     "output_type": "execute_result"
    }
   ],
   "source": [
    "database_path = '../data/results.db'\n",
    "\n",
    "# Connect to the database\n",
    "conn = conn = sqlite3.connect(database_path)\n",
    "\n",
    "# I need to convert the DataFrame to a SQL Table\n",
    "\n",
    "combined_data.to_sql('combined_data', conn, if_exists='replace', index=False)"
   ]
  },
  {
   "cell_type": "code",
   "execution_count": 40,
   "metadata": {
    "scrolled": true
   },
   "outputs": [
    {
     "name": "stdout",
     "output_type": "stream",
     "text": [
      "[('Bagatelle', '4323 Rue Ontario E, Montreal, QC H1V 1K5, Canada', 'French, Breakfast & Brunch', 45.5528219, -73.5396242, 4.0, 45.553, -73.54, 'Marché Maisonneuve', 45.55321884238814, -73.53978216648102, 11), ('Les Gourmandises de Marie-Antoinette', '4317 Rue Ontario E, Montreal, QC H1V 1K5, Canada', 'Bakeries, Tea Rooms', 45.5529099, -73.5397797, 4.5, 45.553, -73.54, 'Marché Maisonneuve', 45.55321884238814, -73.53978216648102, 11), ('Pita Bar', '4315 Rue Ontario E, Montreal, QC H1V 1K5, Canada', 'Greek', 45.552803, -73.539842, 3.5, 45.553, -73.54, 'Marché Maisonneuve', 45.55321884238814, -73.53978216648102, 11), ('India Rosa', '1241 Avenue du Mont-Royal E, Montreal, QC H2J 1Y2, Canada', 'Indian, Cocktail Bars, Tapas Bars', 45.529291, -73.578237, 4.0, 45.529, -73.578, 'du Mont-Royal / de Brébeuf', 45.52933653055564, -73.57795268297195, 6), ('Le Rouge Gorge', '1234 Mont-royal E, Montreal, QC H2J 1Y2, Canada', 'Wine Bars, Tapas/Small Plates', 45.5291117540899, -73.5779781639576, 4.5, 45.529, -73.578, 'du Mont-Royal / de Brébeuf', 45.52933653055564, -73.57795268297195, 6), ('Pizzédélic', '1250 avenue du Mont-Royal Est, Montreal, QC H2J 1Y3, Canada', 'Pizza, Food Delivery Services', 45.5293987, -73.5778183, 3.5, 45.529, -73.578, 'du Mont-Royal / de Brébeuf', 45.52933653055564, -73.57795268297195, 6), ('Au Pain Perdu', '4489 Rue de la Roche, Montreal, QC H2J 3J1, Canada', 'Breakfast & Brunch', 45.528691, -73.578071, 3.5, 45.529, -73.578, 'du Mont-Royal / de Brébeuf', 45.52933653055564, -73.57795268297195, 6), ('Boîte Geisha Fusion Sushi', '1209 Mount Royal Avenue E, Montreal, QC H2J 1Y2, Canada', 'Japanese, Sushi Bars', 45.528972044224545, -73.57848567435575, 4.5, 45.529, -73.578, 'du Mont-Royal / de Brébeuf', 45.52933653055564, -73.57795268297195, 6), ('Ibéricos', '4475 Rue Saint-Denis, Montreal, QC H2J 2L2, Canada', 'Spanish, Tapas Bars', 45.5239019496467, -73.5824299603701, 4.5, 45.524, -73.582, 'Métro Mont-Royal (Utilités publiques / Rivard)', 45.52423612093815, -73.58155220746994, 2), ('Café Gentile', '9299 Avenue du Parc, Montreal, QC H2N 2A2, Canada', 'Sandwiches, Breakfast & Brunch', 45.5381974, -73.6545097, 4.0, 45.538, -73.655, 'Chabanel / du Parc', 45.53830765459552, -73.6548838019371, 12)]\n"
     ]
    }
   ],
   "source": [
    "# Test query to make sure I was succesful\n",
    "\n",
    "cursor = conn.cursor()\n",
    "cursor.execute(\"SELECT * FROM combined_data LIMIT 10;\")\n",
    "print(cursor.fetchall())"
   ]
  },
  {
   "cell_type": "code",
   "execution_count": 41,
   "metadata": {},
   "outputs": [],
   "source": [
    "# Close the connection\n",
    "conn.close()"
   ]
  },
  {
   "cell_type": "markdown",
   "metadata": {},
   "source": [
    "Look at the data before and after the join to validate your data."
   ]
  },
  {
   "cell_type": "code",
   "execution_count": 42,
   "metadata": {},
   "outputs": [
    {
     "name": "stdout",
     "output_type": "stream",
     "text": [
      "Yelp Data: \n",
      "(160, 6)\n",
      "                                                name   latitude  longitude  \\\n",
      "0      Gare d'autocars de Montréal (Berri / Ontario)  45.516926 -73.564257   \n",
      "1                                 Marché Maisonneuve  45.553219 -73.539782   \n",
      "2                                Rachel / de Brébeuf  45.526890 -73.572640   \n",
      "3      Bibliothèque d'Ahuntsic (Lajeunesse / Fleury)  45.553400 -73.662255   \n",
      "4  Cité des Arts du Cirque (Paul Boutet / des Reg...  45.559842 -73.615447   \n",
      "\n",
      "   free_bikes  rounded_latitude  rounded_longitude  \n",
      "0          12            45.517            -73.564  \n",
      "1          11            45.553            -73.540  \n",
      "2           1            45.527            -73.573  \n",
      "3           6            45.553            -73.662  \n",
      "4          17            45.560            -73.615  \n",
      "name                 0\n",
      "latitude             0\n",
      "longitude            0\n",
      "free_bikes           0\n",
      "rounded_latitude     0\n",
      "rounded_longitude    0\n",
      "dtype: int64\n"
     ]
    }
   ],
   "source": [
    "# Taking a look at the Yelp data\n",
    "\n",
    "print(\"Yelp Data: \")\n",
    "print(yelp_data.shape)\n",
    "print(yelp_data.head())\n",
    "print(yelp_data.isnull().sum())"
   ]
  },
  {
   "cell_type": "code",
   "execution_count": 48,
   "metadata": {},
   "outputs": [
    {
     "name": "stdout",
     "output_type": "stream",
     "text": [
      "Bixi Data: \n",
      "(3182, 8)\n",
      "                   name                                            address  \\\n",
      "0         Le Saint-Bock  1749 Rue Saint-Denis, Montreal, QC H2X 3K4, Ca...   \n",
      "1  Pizzeria Dei Compari  1668 Rue Saint-Denis, Montreal, QC H2X 3K6, Ca...   \n",
      "2         Bouillon Bilk  1595 Boulevard Saint-Laurent, Montreal, QC H2X...   \n",
      "3          Poutineville   1365 Rue Ontario E, Montreal, QC H2L 1S1, Canada   \n",
      "4       Les Deux Gamins  170 Rue Prince Arthur E, Montreal, QC H2X 1B7,...   \n",
      "\n",
      "                           category   latitude  longitude  rating  \\\n",
      "0                        Brasseries  45.515820 -73.564641     4.0   \n",
      "1                             Pizza  45.515000 -73.563750     4.0   \n",
      "2                   Modern European  45.511040 -73.565800     4.5   \n",
      "3                       Poutineries  45.523205 -73.561300     4.5   \n",
      "4  French, Wine Bars, Cocktail Bars  45.515450 -73.570950     4.0   \n",
      "\n",
      "   rounded_latitude  rounded_longitude  \n",
      "0            45.516            -73.565  \n",
      "1            45.515            -73.564  \n",
      "2            45.511            -73.566  \n",
      "3            45.523            -73.561  \n",
      "4            45.515            -73.571  \n",
      "name                 0\n",
      "address              0\n",
      "category             0\n",
      "latitude             0\n",
      "longitude            0\n",
      "rating               0\n",
      "rounded_latitude     0\n",
      "rounded_longitude    0\n",
      "dtype: int64\n"
     ]
    }
   ],
   "source": [
    "# Taking a look at the city_bike data\n",
    "\n",
    "print(\"Bixi Data: \")\n",
    "print(bike_stations.shape)\n",
    "print(bike_stations.head())\n",
    "print(bike_stations.isnull().sum())"
   ]
  },
  {
   "cell_type": "code",
   "execution_count": 49,
   "metadata": {},
   "outputs": [
    {
     "name": "stdout",
     "output_type": "stream",
     "text": [
      "Combined Data: \n",
      "(45, 12)\n",
      "                                  name_x  \\\n",
      "0                              Bagatelle   \n",
      "1   Les Gourmandises de Marie-Antoinette   \n",
      "2                               Pita Bar   \n",
      "19                            India Rosa   \n",
      "23                        Le Rouge Gorge   \n",
      "\n",
      "                                              address  \\\n",
      "0    4323 Rue Ontario E, Montreal, QC H1V 1K5, Canada   \n",
      "1    4317 Rue Ontario E, Montreal, QC H1V 1K5, Canada   \n",
      "2    4315 Rue Ontario E, Montreal, QC H1V 1K5, Canada   \n",
      "19  1241 Avenue du Mont-Royal E, Montreal, QC H2J ...   \n",
      "23    1234 Mont-royal E, Montreal, QC H2J 1Y2, Canada   \n",
      "\n",
      "                             category  latitude_x  longitude_x  rating  \\\n",
      "0          French, Breakfast & Brunch   45.552822   -73.539624     4.0   \n",
      "1                 Bakeries, Tea Rooms   45.552910   -73.539780     4.5   \n",
      "2                               Greek   45.552803   -73.539842     3.5   \n",
      "19  Indian, Cocktail Bars, Tapas Bars   45.529291   -73.578237     4.0   \n",
      "23      Wine Bars, Tapas/Small Plates   45.529112   -73.577978     4.5   \n",
      "\n",
      "    rounded_latitude  rounded_longitude                      name_y  \\\n",
      "0             45.553            -73.540          Marché Maisonneuve   \n",
      "1             45.553            -73.540          Marché Maisonneuve   \n",
      "2             45.553            -73.540          Marché Maisonneuve   \n",
      "19            45.529            -73.578  du Mont-Royal / de Brébeuf   \n",
      "23            45.529            -73.578  du Mont-Royal / de Brébeuf   \n",
      "\n",
      "    latitude_y  longitude_y  free_bikes  \n",
      "0    45.553219   -73.539782          11  \n",
      "1    45.553219   -73.539782          11  \n",
      "2    45.553219   -73.539782          11  \n",
      "19   45.529337   -73.577953           6  \n",
      "23   45.529337   -73.577953           6  \n",
      "name_x               0\n",
      "address              0\n",
      "category             0\n",
      "latitude_x           0\n",
      "longitude_x          0\n",
      "rating               0\n",
      "rounded_latitude     0\n",
      "rounded_longitude    0\n",
      "name_y               0\n",
      "latitude_y           0\n",
      "longitude_y          0\n",
      "free_bikes           0\n",
      "dtype: int64\n"
     ]
    }
   ],
   "source": [
    "# Taking a look at the combined data\n",
    "\n",
    "print(\"Combined Data: \")\n",
    "print(combined_data.shape)\n",
    "print(combined_data.head())\n",
    "print(combined_data.isnull().sum())"
   ]
  },
  {
   "cell_type": "code",
   "execution_count": 50,
   "metadata": {},
   "outputs": [
    {
     "name": "stdout",
     "output_type": "stream",
     "text": [
      "Summary Statistics - Yelp Data:\n",
      "         latitude   longitude  free_bikes  rounded_latitude  rounded_longitude\n",
      "count  160.000000  160.000000  160.000000        160.000000         160.000000\n",
      "mean    45.521238  -73.579857    8.600000         45.521225         -73.579837\n",
      "std      0.024221    0.028689    5.827931          0.024259           0.028663\n",
      "min     45.467666  -73.667357    0.000000         45.468000         -73.667000\n",
      "25%     45.501837  -73.589594    4.750000         45.501750         -73.589250\n",
      "50%     45.521267  -73.571923    8.000000         45.521500         -73.572000\n",
      "75%     45.542550  -73.560740   12.000000         45.542500         -73.561000\n",
      "max     45.562219  -73.530250   34.000000         45.562000         -73.530000\n",
      "\n",
      "\n",
      "Summary Statistics - Bike Stations Data:\n",
      "          latitude    longitude       rating  rounded_latitude  \\\n",
      "count  3182.000000  3182.000000  3182.000000       3182.000000   \n",
      "mean     45.520243   -73.579722     4.191860         45.520230   \n",
      "std       0.023119     0.027823     0.425573          0.023125   \n",
      "min      45.463398   -73.669142     1.000000         45.463000   \n",
      "25%      45.501380   -73.588958     4.000000         45.501000   \n",
      "50%      45.520060   -73.574323     4.000000         45.520000   \n",
      "75%      45.540771   -73.560469     4.500000         45.541000   \n",
      "max      45.570698   -73.522953     5.000000         45.571000   \n",
      "\n",
      "       rounded_longitude  \n",
      "count        3182.000000  \n",
      "mean          -73.579690  \n",
      "std             0.027822  \n",
      "min           -73.669000  \n",
      "25%           -73.589000  \n",
      "50%           -73.574000  \n",
      "75%           -73.560000  \n",
      "max           -73.523000  \n"
     ]
    }
   ],
   "source": [
    "# Summary Statistics Before the Join\n",
    "print(\"Summary Statistics - Yelp Data:\")\n",
    "print(yelp_data.describe())\n",
    "print(\"\\n\")\n",
    "print(\"Summary Statistics - Bike Stations Data:\")\n",
    "print(bike_stations.describe())"
   ]
  },
  {
   "cell_type": "code",
   "execution_count": 51,
   "metadata": {},
   "outputs": [
    {
     "name": "stdout",
     "output_type": "stream",
     "text": [
      "Summary Statistics - Combined Data:\n",
      "       latitude_x  longitude_x    rating  rounded_latitude  rounded_longitude  \\\n",
      "count   45.000000    45.000000  45.00000         45.000000          45.000000   \n",
      "mean    45.524520   -73.575626   4.00000         45.524578         -73.575600   \n",
      "std      0.020226     0.022593   0.46466          0.020203           0.022591   \n",
      "min     45.487754   -73.654510   3.00000         45.488000         -73.655000   \n",
      "25%     45.510731   -73.587480   3.50000         45.511000         -73.587000   \n",
      "50%     45.526767   -73.572148   4.00000         45.527000         -73.572000   \n",
      "75%     45.540899   -73.566750   4.50000         45.541000         -73.567000   \n",
      "max     45.560285   -73.532816   5.00000         45.560000         -73.533000   \n",
      "\n",
      "       latitude_y  longitude_y  free_bikes  \n",
      "count   45.000000    45.000000   45.000000  \n",
      "mean    45.524628   -73.575589    7.733333  \n",
      "std      0.020250     0.022671    5.193527  \n",
      "min     45.488302   -73.654884    0.000000  \n",
      "25%     45.510599   -73.586850    5.000000  \n",
      "50%     45.527148   -73.571936    6.000000  \n",
      "75%     45.541448   -73.566925   11.000000  \n",
      "max     45.559705   -73.532633   22.000000  \n"
     ]
    }
   ],
   "source": [
    "# Summary Statistics After the Join\n",
    "print(\"Summary Statistics - Combined Data:\")\n",
    "print(combined_data.describe())"
   ]
  },
  {
   "cell_type": "code",
   "execution_count": null,
   "metadata": {},
   "outputs": [],
   "source": []
  }
 ],
 "metadata": {
  "kernelspec": {
   "display_name": "Python 3 (ipykernel)",
   "language": "python",
   "name": "python3"
  },
  "language_info": {
   "codemirror_mode": {
    "name": "ipython",
    "version": 3
   },
   "file_extension": ".py",
   "mimetype": "text/x-python",
   "name": "python",
   "nbconvert_exporter": "python",
   "pygments_lexer": "ipython3",
   "version": "3.8.18"
  }
 },
 "nbformat": 4,
 "nbformat_minor": 4
}
